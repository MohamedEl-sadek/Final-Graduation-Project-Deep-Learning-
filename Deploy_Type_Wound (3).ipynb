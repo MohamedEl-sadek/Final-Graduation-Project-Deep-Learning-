{
  "cells": [
    {
      "cell_type": "code",
      "execution_count": null,
      "metadata": {
        "colab": {
          "base_uri": "https://localhost:8080/"
        },
        "id": "fFl7dicNx84Z",
        "outputId": "b536db48-94fe-4ef1-c94a-3219d6890b92"
      },
      "outputs": [
        {
          "output_type": "stream",
          "name": "stdout",
          "text": [
            "Mounted at /content/drive\n"
          ]
        }
      ],
      "source": [
        "from google.colab import drive\n",
        "drive.mount('/content/drive')"
      ]
    },
    {
      "cell_type": "code",
      "execution_count": null,
      "metadata": {
        "colab": {
          "base_uri": "https://localhost:8080/",
          "height": 1000,
          "referenced_widgets": [
            "1bb4dd67ce8e45dca43f66a2cb6af223",
            "e992c5475f194ac4a01d412df5cee114",
            "fb7486798dfa4abea3acb2f2d69ca2cc"
          ]
        },
        "id": "0deySRbEbE5j",
        "outputId": "f71532d3-0491-462f-8b8b-9db5849811e4"
      },
      "outputs": [],
      "source": [
        "from tensorflow.keras.models import load_model\n",
        "import numpy as np\n",
        "import cv2\n",
        "import matplotlib.pyplot as plt\n",
        "from tensorflow.keras.applications.resnet50 import preprocess_input\n",
        "from google.colab import files\n",
        "from IPython.display import display\n",
        "import ipywidgets as widgets\n",
        "from sklearn.preprocessing import LabelEncoder\n",
        "\n",
        "\n",
        "# Define the classes\n",
        "classes = ['Abrasions', 'Bruises', 'Burns', 'Cut', 'Diabetic Wounds', 'Laceration', 'Normal', 'Pressure Wounds', 'Surgical Wounds', 'Venous Wounds']\n",
        "\n",
        "# Create and fit the LabelEncoder\n",
        "label_encoder = LabelEncoder()\n",
        "label_encoder.fit(classes)\n",
        "\n",
        "\n",
        "model_path = '/content/drive/MyDrive/Collected and Categorized Wound Images (1).h5'\n",
        "model = load_model(model_path)\n",
        "\n",
        "\n",
        "def preprocess_image(img):\n",
        "    img = cv2.cvtColor(img, cv2.COLOR_BGR2RGB)\n",
        "    img = cv2.resize(img, (299, 299))\n",
        "    img = img.astype('float32')\n",
        "    img = preprocess_input(img)\n",
        "    return img\n",
        "\n",
        "\n",
        "def classify_image(btn):\n",
        "    uploaded = files.upload()\n",
        "    for filename in uploaded.keys():\n",
        "        img = cv2.imdecode(np.frombuffer(uploaded[filename], np.uint8), cv2.IMREAD_COLOR)\n",
        "        img_processed = preprocess_image(img)\n",
        "        img_processed = np.expand_dims(img_processed, axis=0)\n",
        "\n",
        "\n",
        "        predictions = model.predict(img_processed)\n",
        "        predicted_class_index = np.argmax(predictions)\n",
        "        predicted_label = label_encoder.classes_[predicted_class_index]\n",
        "\n",
        "\n",
        "        plt.imshow(cv2.cvtColor(img, cv2.COLOR_BGR2RGB))\n",
        "        plt.axis('off')\n",
        "        plt.title(f'Predicted Label: {predicted_label}')\n",
        "        plt.show()\n",
        "\n",
        "\n",
        "upload_button = widgets.Button(description=\"Upload and Classify\")\n",
        "upload_button.on_click(classify_image)\n",
        "display(upload_button)"
      ]
    }
  ],
  "metadata": {
    "colab": {
      "provenance": []
    },
    "kernelspec": {
      "display_name": "Python 3",
      "name": "python3"
    },
    "language_info": {
      "name": "python"
    },
    "widgets": {
      "application/vnd.jupyter.widget-state+json": {
        "1bb4dd67ce8e45dca43f66a2cb6af223": {
          "model_module": "@jupyter-widgets/controls",
          "model_name": "ButtonModel",
          "model_module_version": "1.5.0",
          "state": {
            "_dom_classes": [],
            "_model_module": "@jupyter-widgets/controls",
            "_model_module_version": "1.5.0",
            "_model_name": "ButtonModel",
            "_view_count": null,
            "_view_module": "@jupyter-widgets/controls",
            "_view_module_version": "1.5.0",
            "_view_name": "ButtonView",
            "button_style": "",
            "description": "Upload and Classify",
            "disabled": false,
            "icon": "",
            "layout": "IPY_MODEL_e992c5475f194ac4a01d412df5cee114",
            "style": "IPY_MODEL_fb7486798dfa4abea3acb2f2d69ca2cc",
            "tooltip": ""
          }
        },
        "e992c5475f194ac4a01d412df5cee114": {
          "model_module": "@jupyter-widgets/base",
          "model_name": "LayoutModel",
          "model_module_version": "1.2.0",
          "state": {
            "_model_module": "@jupyter-widgets/base",
            "_model_module_version": "1.2.0",
            "_model_name": "LayoutModel",
            "_view_count": null,
            "_view_module": "@jupyter-widgets/base",
            "_view_module_version": "1.2.0",
            "_view_name": "LayoutView",
            "align_content": null,
            "align_items": null,
            "align_self": null,
            "border": null,
            "bottom": null,
            "display": null,
            "flex": null,
            "flex_flow": null,
            "grid_area": null,
            "grid_auto_columns": null,
            "grid_auto_flow": null,
            "grid_auto_rows": null,
            "grid_column": null,
            "grid_gap": null,
            "grid_row": null,
            "grid_template_areas": null,
            "grid_template_columns": null,
            "grid_template_rows": null,
            "height": null,
            "justify_content": null,
            "justify_items": null,
            "left": null,
            "margin": null,
            "max_height": null,
            "max_width": null,
            "min_height": null,
            "min_width": null,
            "object_fit": null,
            "object_position": null,
            "order": null,
            "overflow": null,
            "overflow_x": null,
            "overflow_y": null,
            "padding": null,
            "right": null,
            "top": null,
            "visibility": null,
            "width": null
          }
        },
        "fb7486798dfa4abea3acb2f2d69ca2cc": {
          "model_module": "@jupyter-widgets/controls",
          "model_name": "ButtonStyleModel",
          "model_module_version": "1.5.0",
          "state": {
            "_model_module": "@jupyter-widgets/controls",
            "_model_module_version": "1.5.0",
            "_model_name": "ButtonStyleModel",
            "_view_count": null,
            "_view_module": "@jupyter-widgets/base",
            "_view_module_version": "1.2.0",
            "_view_name": "StyleView",
            "button_color": null,
            "font_weight": ""
          }
        }
      }
    }
  },
  "nbformat": 4,
  "nbformat_minor": 0
}